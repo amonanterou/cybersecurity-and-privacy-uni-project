{
 "cells": [
  {
   "cell_type": "code",
   "execution_count": 1,
   "id": "04ceaa47",
   "metadata": {},
   "outputs": [],
   "source": [
    "import pandas as pd\n",
    "import numpy as np"
   ]
  },
  {
   "cell_type": "code",
   "execution_count": 2,
   "id": "fce903d8",
   "metadata": {},
   "outputs": [],
   "source": [
    "# read in the files\n",
    "hospital_data = pd.read_csv(\"hospital_data.csv\", names=['sex', 'race', 'age', 'disease'], delimiter=';')\n",
    "citizens_list = pd.read_csv(\"citizens_list.csv\", names=['name', 'sex', 'race', 'age'], delimiter=';')"
   ]
  },
  {
   "cell_type": "code",
   "execution_count": 3,
   "id": "1065c04f",
   "metadata": {},
   "outputs": [
    {
     "data": {
      "text/html": [
       "<div>\n",
       "<style scoped>\n",
       "    .dataframe tbody tr th:only-of-type {\n",
       "        vertical-align: middle;\n",
       "    }\n",
       "\n",
       "    .dataframe tbody tr th {\n",
       "        vertical-align: top;\n",
       "    }\n",
       "\n",
       "    .dataframe thead th {\n",
       "        text-align: right;\n",
       "    }\n",
       "</style>\n",
       "<table border=\"1\" class=\"dataframe\">\n",
       "  <thead>\n",
       "    <tr style=\"text-align: right;\">\n",
       "      <th></th>\n",
       "      <th>sex</th>\n",
       "      <th>race</th>\n",
       "      <th>age</th>\n",
       "      <th>disease</th>\n",
       "    </tr>\n",
       "  </thead>\n",
       "  <tbody>\n",
       "    <tr>\n",
       "      <th>0</th>\n",
       "      <td>female</td>\n",
       "      <td>White: Irish</td>\n",
       "      <td>87</td>\n",
       "      <td>'Influenza &amp; pneumonia'</td>\n",
       "    </tr>\n",
       "    <tr>\n",
       "      <th>1</th>\n",
       "      <td>female</td>\n",
       "      <td>White: Other</td>\n",
       "      <td>85</td>\n",
       "      <td>'Other diseases of the urinary system'</td>\n",
       "    </tr>\n",
       "    <tr>\n",
       "      <th>2</th>\n",
       "      <td>female</td>\n",
       "      <td>Black or Black British: African</td>\n",
       "      <td>77</td>\n",
       "      <td>'Cerebrovascular diseases'</td>\n",
       "    </tr>\n",
       "    <tr>\n",
       "      <th>3</th>\n",
       "      <td>female</td>\n",
       "      <td>White: British</td>\n",
       "      <td>65</td>\n",
       "      <td>'Ischaemic heart diseases'</td>\n",
       "    </tr>\n",
       "    <tr>\n",
       "      <th>4</th>\n",
       "      <td>male</td>\n",
       "      <td>White: British</td>\n",
       "      <td>50</td>\n",
       "      <td>'Other diseases of intestines'</td>\n",
       "    </tr>\n",
       "    <tr>\n",
       "      <th>...</th>\n",
       "      <td>...</td>\n",
       "      <td>...</td>\n",
       "      <td>...</td>\n",
       "      <td>...</td>\n",
       "    </tr>\n",
       "    <tr>\n",
       "      <th>9995</th>\n",
       "      <td>female</td>\n",
       "      <td>White: British</td>\n",
       "      <td>34</td>\n",
       "      <td>'Symptoms &amp; signs inv. the digestive system &amp; ...</td>\n",
       "    </tr>\n",
       "    <tr>\n",
       "      <th>9996</th>\n",
       "      <td>female</td>\n",
       "      <td>White: British</td>\n",
       "      <td>88</td>\n",
       "      <td>'Influenza &amp; pneumonia'</td>\n",
       "    </tr>\n",
       "    <tr>\n",
       "      <th>9997</th>\n",
       "      <td>male</td>\n",
       "      <td>White: British</td>\n",
       "      <td>71</td>\n",
       "      <td>'In situ &amp; benign neoplasms and others of unce...</td>\n",
       "    </tr>\n",
       "    <tr>\n",
       "      <th>9998</th>\n",
       "      <td>female</td>\n",
       "      <td>White: British</td>\n",
       "      <td>88</td>\n",
       "      <td>'General symptoms &amp; signs'</td>\n",
       "    </tr>\n",
       "    <tr>\n",
       "      <th>9999</th>\n",
       "      <td>female</td>\n",
       "      <td>Black or Black British: African</td>\n",
       "      <td>86</td>\n",
       "      <td>'Disorders of lens (including cataracts)'</td>\n",
       "    </tr>\n",
       "  </tbody>\n",
       "</table>\n",
       "<p>10000 rows × 4 columns</p>\n",
       "</div>"
      ],
      "text/plain": [
       "         sex                             race  age  \\\n",
       "0     female                     White: Irish   87   \n",
       "1     female                     White: Other   85   \n",
       "2     female  Black or Black British: African   77   \n",
       "3     female                   White: British   65   \n",
       "4       male                   White: British   50   \n",
       "...      ...                              ...  ...   \n",
       "9995  female                   White: British   34   \n",
       "9996  female                   White: British   88   \n",
       "9997    male                   White: British   71   \n",
       "9998  female                   White: British   88   \n",
       "9999  female  Black or Black British: African   86   \n",
       "\n",
       "                                                disease  \n",
       "0                               'Influenza & pneumonia'  \n",
       "1                'Other diseases of the urinary system'  \n",
       "2                            'Cerebrovascular diseases'  \n",
       "3                            'Ischaemic heart diseases'  \n",
       "4                        'Other diseases of intestines'  \n",
       "...                                                 ...  \n",
       "9995  'Symptoms & signs inv. the digestive system & ...  \n",
       "9996                            'Influenza & pneumonia'  \n",
       "9997  'In situ & benign neoplasms and others of unce...  \n",
       "9998                         'General symptoms & signs'  \n",
       "9999          'Disorders of lens (including cataracts)'  \n",
       "\n",
       "[10000 rows x 4 columns]"
      ]
     },
     "execution_count": 3,
     "metadata": {},
     "output_type": "execute_result"
    }
   ],
   "source": [
    "hospital_data"
   ]
  },
  {
   "cell_type": "code",
   "execution_count": 4,
   "id": "8ba6bd6f",
   "metadata": {},
   "outputs": [
    {
     "data": {
      "text/html": [
       "<div>\n",
       "<style scoped>\n",
       "    .dataframe tbody tr th:only-of-type {\n",
       "        vertical-align: middle;\n",
       "    }\n",
       "\n",
       "    .dataframe tbody tr th {\n",
       "        vertical-align: top;\n",
       "    }\n",
       "\n",
       "    .dataframe thead th {\n",
       "        text-align: right;\n",
       "    }\n",
       "</style>\n",
       "<table border=\"1\" class=\"dataframe\">\n",
       "  <thead>\n",
       "    <tr style=\"text-align: right;\">\n",
       "      <th></th>\n",
       "      <th>name</th>\n",
       "      <th>sex</th>\n",
       "      <th>race</th>\n",
       "      <th>age</th>\n",
       "    </tr>\n",
       "  </thead>\n",
       "  <tbody>\n",
       "    <tr>\n",
       "      <th>0</th>\n",
       "      <td>Aaron Bilger</td>\n",
       "      <td>male</td>\n",
       "      <td>White: Irish</td>\n",
       "      <td>85</td>\n",
       "    </tr>\n",
       "    <tr>\n",
       "      <th>1</th>\n",
       "      <td>Aaron Erwin</td>\n",
       "      <td>male</td>\n",
       "      <td>Other: Arab</td>\n",
       "      <td>87</td>\n",
       "    </tr>\n",
       "    <tr>\n",
       "      <th>2</th>\n",
       "      <td>Aaron Ferrara</td>\n",
       "      <td>male</td>\n",
       "      <td>White: British</td>\n",
       "      <td>82</td>\n",
       "    </tr>\n",
       "    <tr>\n",
       "      <th>3</th>\n",
       "      <td>Aaron James</td>\n",
       "      <td>male</td>\n",
       "      <td>White: British</td>\n",
       "      <td>4</td>\n",
       "    </tr>\n",
       "    <tr>\n",
       "      <th>4</th>\n",
       "      <td>Aaron Jolin</td>\n",
       "      <td>male</td>\n",
       "      <td>Mixed: White and Asian</td>\n",
       "      <td>77</td>\n",
       "    </tr>\n",
       "    <tr>\n",
       "      <th>...</th>\n",
       "      <td>...</td>\n",
       "      <td>...</td>\n",
       "      <td>...</td>\n",
       "      <td>...</td>\n",
       "    </tr>\n",
       "    <tr>\n",
       "      <th>9995</th>\n",
       "      <td>Zane Koeppen</td>\n",
       "      <td>male</td>\n",
       "      <td>White: British</td>\n",
       "      <td>76</td>\n",
       "    </tr>\n",
       "    <tr>\n",
       "      <th>9996</th>\n",
       "      <td>Zane Pitman</td>\n",
       "      <td>male</td>\n",
       "      <td>White: British</td>\n",
       "      <td>28</td>\n",
       "    </tr>\n",
       "    <tr>\n",
       "      <th>9997</th>\n",
       "      <td>Zella Barnett</td>\n",
       "      <td>female</td>\n",
       "      <td>Black or Black British: Caribbean</td>\n",
       "      <td>70</td>\n",
       "    </tr>\n",
       "    <tr>\n",
       "      <th>9998</th>\n",
       "      <td>Zenaida Mccomb</td>\n",
       "      <td>female</td>\n",
       "      <td>White: Other</td>\n",
       "      <td>56</td>\n",
       "    </tr>\n",
       "    <tr>\n",
       "      <th>9999</th>\n",
       "      <td>Zita Johnson</td>\n",
       "      <td>female</td>\n",
       "      <td>Asian or Asian British: Bangladeshi</td>\n",
       "      <td>3</td>\n",
       "    </tr>\n",
       "  </tbody>\n",
       "</table>\n",
       "<p>10000 rows × 4 columns</p>\n",
       "</div>"
      ],
      "text/plain": [
       "                name     sex                                 race  age\n",
       "0       Aaron Bilger    male                         White: Irish   85\n",
       "1        Aaron Erwin    male                          Other: Arab   87\n",
       "2      Aaron Ferrara    male                       White: British   82\n",
       "3        Aaron James    male                       White: British    4\n",
       "4        Aaron Jolin    male               Mixed: White and Asian   77\n",
       "...              ...     ...                                  ...  ...\n",
       "9995    Zane Koeppen    male                       White: British   76\n",
       "9996     Zane Pitman    male                       White: British   28\n",
       "9997   Zella Barnett  female    Black or Black British: Caribbean   70\n",
       "9998  Zenaida Mccomb  female                         White: Other   56\n",
       "9999    Zita Johnson  female  Asian or Asian British: Bangladeshi    3\n",
       "\n",
       "[10000 rows x 4 columns]"
      ]
     },
     "execution_count": 4,
     "metadata": {},
     "output_type": "execute_result"
    }
   ],
   "source": [
    "citizens_list"
   ]
  },
  {
   "cell_type": "code",
   "execution_count": 5,
   "id": "8a9f982f",
   "metadata": {
    "scrolled": false
   },
   "outputs": [
    {
     "data": {
      "text/html": [
       "<div>\n",
       "<style scoped>\n",
       "    .dataframe tbody tr th:only-of-type {\n",
       "        vertical-align: middle;\n",
       "    }\n",
       "\n",
       "    .dataframe tbody tr th {\n",
       "        vertical-align: top;\n",
       "    }\n",
       "\n",
       "    .dataframe thead th {\n",
       "        text-align: right;\n",
       "    }\n",
       "</style>\n",
       "<table border=\"1\" class=\"dataframe\">\n",
       "  <thead>\n",
       "    <tr style=\"text-align: right;\">\n",
       "      <th></th>\n",
       "      <th>sex</th>\n",
       "      <th>race</th>\n",
       "      <th>age</th>\n",
       "      <th>disease</th>\n",
       "    </tr>\n",
       "  </thead>\n",
       "  <tbody>\n",
       "    <tr>\n",
       "      <th>188</th>\n",
       "      <td>male</td>\n",
       "      <td>White: British</td>\n",
       "      <td>70</td>\n",
       "      <td>'Diseases of oesophagus, stomach &amp; duodenum'</td>\n",
       "    </tr>\n",
       "    <tr>\n",
       "      <th>645</th>\n",
       "      <td>male</td>\n",
       "      <td>White: British</td>\n",
       "      <td>70</td>\n",
       "      <td>'Other diseases of intestines'</td>\n",
       "    </tr>\n",
       "    <tr>\n",
       "      <th>758</th>\n",
       "      <td>male</td>\n",
       "      <td>White: British</td>\n",
       "      <td>70</td>\n",
       "      <td>'In situ &amp; benign neoplasms and others of unce...</td>\n",
       "    </tr>\n",
       "    <tr>\n",
       "      <th>803</th>\n",
       "      <td>male</td>\n",
       "      <td>White: British</td>\n",
       "      <td>70</td>\n",
       "      <td>'Other forms of heart disease'</td>\n",
       "    </tr>\n",
       "    <tr>\n",
       "      <th>952</th>\n",
       "      <td>male</td>\n",
       "      <td>White: British</td>\n",
       "      <td>70</td>\n",
       "      <td>'Other forms of heart disease'</td>\n",
       "    </tr>\n",
       "    <tr>\n",
       "      <th>1408</th>\n",
       "      <td>male</td>\n",
       "      <td>White: British</td>\n",
       "      <td>70</td>\n",
       "      <td>'Arthropathies'</td>\n",
       "    </tr>\n",
       "    <tr>\n",
       "      <th>1449</th>\n",
       "      <td>male</td>\n",
       "      <td>White: British</td>\n",
       "      <td>70</td>\n",
       "      <td>'Malignant neoplsm. of thyroid and oth. endo. ...</td>\n",
       "    </tr>\n",
       "    <tr>\n",
       "      <th>1668</th>\n",
       "      <td>male</td>\n",
       "      <td>White: British</td>\n",
       "      <td>70</td>\n",
       "      <td>'Arthropathies'</td>\n",
       "    </tr>\n",
       "    <tr>\n",
       "      <th>3414</th>\n",
       "      <td>male</td>\n",
       "      <td>White: British</td>\n",
       "      <td>70</td>\n",
       "      <td>'Symptoms &amp; signs inv. the digestive system &amp; ...</td>\n",
       "    </tr>\n",
       "    <tr>\n",
       "      <th>3727</th>\n",
       "      <td>male</td>\n",
       "      <td>White: British</td>\n",
       "      <td>70</td>\n",
       "      <td>'Dorsopathies'</td>\n",
       "    </tr>\n",
       "    <tr>\n",
       "      <th>3808</th>\n",
       "      <td>male</td>\n",
       "      <td>White: British</td>\n",
       "      <td>70</td>\n",
       "      <td>'Ischaemic heart diseases'</td>\n",
       "    </tr>\n",
       "    <tr>\n",
       "      <th>3918</th>\n",
       "      <td>male</td>\n",
       "      <td>White: British</td>\n",
       "      <td>70</td>\n",
       "      <td>'Other forms of heart disease'</td>\n",
       "    </tr>\n",
       "    <tr>\n",
       "      <th>4546</th>\n",
       "      <td>male</td>\n",
       "      <td>White: British</td>\n",
       "      <td>70</td>\n",
       "      <td>'Malignant neoplasm of digestive organs'</td>\n",
       "    </tr>\n",
       "    <tr>\n",
       "      <th>4634</th>\n",
       "      <td>male</td>\n",
       "      <td>White: British</td>\n",
       "      <td>70</td>\n",
       "      <td>'Other forms of heart disease'</td>\n",
       "    </tr>\n",
       "    <tr>\n",
       "      <th>5162</th>\n",
       "      <td>male</td>\n",
       "      <td>White: British</td>\n",
       "      <td>70</td>\n",
       "      <td>'Arthropathies'</td>\n",
       "    </tr>\n",
       "    <tr>\n",
       "      <th>5422</th>\n",
       "      <td>male</td>\n",
       "      <td>White: British</td>\n",
       "      <td>70</td>\n",
       "      <td>'Arthropathies'</td>\n",
       "    </tr>\n",
       "    <tr>\n",
       "      <th>5457</th>\n",
       "      <td>male</td>\n",
       "      <td>White: British</td>\n",
       "      <td>70</td>\n",
       "      <td>'Influenza &amp; pneumonia'</td>\n",
       "    </tr>\n",
       "    <tr>\n",
       "      <th>5580</th>\n",
       "      <td>male</td>\n",
       "      <td>White: British</td>\n",
       "      <td>70</td>\n",
       "      <td>'Arthropathies'</td>\n",
       "    </tr>\n",
       "    <tr>\n",
       "      <th>5971</th>\n",
       "      <td>male</td>\n",
       "      <td>White: British</td>\n",
       "      <td>70</td>\n",
       "      <td>'Ischaemic heart diseases'</td>\n",
       "    </tr>\n",
       "    <tr>\n",
       "      <th>6087</th>\n",
       "      <td>male</td>\n",
       "      <td>White: British</td>\n",
       "      <td>70</td>\n",
       "      <td>'Arthropathies'</td>\n",
       "    </tr>\n",
       "    <tr>\n",
       "      <th>6609</th>\n",
       "      <td>male</td>\n",
       "      <td>White: British</td>\n",
       "      <td>70</td>\n",
       "      <td>'Diseases of oesophagus, stomach &amp; duodenum'</td>\n",
       "    </tr>\n",
       "    <tr>\n",
       "      <th>6883</th>\n",
       "      <td>male</td>\n",
       "      <td>White: British</td>\n",
       "      <td>70</td>\n",
       "      <td>'Ischaemic heart diseases'</td>\n",
       "    </tr>\n",
       "    <tr>\n",
       "      <th>6947</th>\n",
       "      <td>male</td>\n",
       "      <td>White: British</td>\n",
       "      <td>70</td>\n",
       "      <td>'Arthropathies'</td>\n",
       "    </tr>\n",
       "    <tr>\n",
       "      <th>6994</th>\n",
       "      <td>male</td>\n",
       "      <td>White: British</td>\n",
       "      <td>70</td>\n",
       "      <td>'Chronic lower respiratory diseases'</td>\n",
       "    </tr>\n",
       "    <tr>\n",
       "      <th>7019</th>\n",
       "      <td>male</td>\n",
       "      <td>White: British</td>\n",
       "      <td>70</td>\n",
       "      <td>'Influenza &amp; pneumonia'</td>\n",
       "    </tr>\n",
       "    <tr>\n",
       "      <th>7374</th>\n",
       "      <td>male</td>\n",
       "      <td>White: British</td>\n",
       "      <td>70</td>\n",
       "      <td>'Influenza &amp; pneumonia'</td>\n",
       "    </tr>\n",
       "    <tr>\n",
       "      <th>8345</th>\n",
       "      <td>male</td>\n",
       "      <td>White: British</td>\n",
       "      <td>70</td>\n",
       "      <td>'Ischaemic heart diseases'</td>\n",
       "    </tr>\n",
       "    <tr>\n",
       "      <th>8497</th>\n",
       "      <td>male</td>\n",
       "      <td>White: British</td>\n",
       "      <td>70</td>\n",
       "      <td>'Arthropathies'</td>\n",
       "    </tr>\n",
       "    <tr>\n",
       "      <th>8513</th>\n",
       "      <td>male</td>\n",
       "      <td>White: British</td>\n",
       "      <td>70</td>\n",
       "      <td>'Cerebrovascular diseases'</td>\n",
       "    </tr>\n",
       "    <tr>\n",
       "      <th>8731</th>\n",
       "      <td>male</td>\n",
       "      <td>White: British</td>\n",
       "      <td>70</td>\n",
       "      <td>'Malignant neoplasms of lymphoid, haematopoiet...</td>\n",
       "    </tr>\n",
       "    <tr>\n",
       "      <th>8996</th>\n",
       "      <td>male</td>\n",
       "      <td>White: British</td>\n",
       "      <td>70</td>\n",
       "      <td>'Other forms of heart disease'</td>\n",
       "    </tr>\n",
       "    <tr>\n",
       "      <th>9481</th>\n",
       "      <td>male</td>\n",
       "      <td>White: British</td>\n",
       "      <td>70</td>\n",
       "      <td>'Disorders of lens (including cataracts)'</td>\n",
       "    </tr>\n",
       "  </tbody>\n",
       "</table>\n",
       "</div>"
      ],
      "text/plain": [
       "       sex            race  age  \\\n",
       "188   male  White: British   70   \n",
       "645   male  White: British   70   \n",
       "758   male  White: British   70   \n",
       "803   male  White: British   70   \n",
       "952   male  White: British   70   \n",
       "1408  male  White: British   70   \n",
       "1449  male  White: British   70   \n",
       "1668  male  White: British   70   \n",
       "3414  male  White: British   70   \n",
       "3727  male  White: British   70   \n",
       "3808  male  White: British   70   \n",
       "3918  male  White: British   70   \n",
       "4546  male  White: British   70   \n",
       "4634  male  White: British   70   \n",
       "5162  male  White: British   70   \n",
       "5422  male  White: British   70   \n",
       "5457  male  White: British   70   \n",
       "5580  male  White: British   70   \n",
       "5971  male  White: British   70   \n",
       "6087  male  White: British   70   \n",
       "6609  male  White: British   70   \n",
       "6883  male  White: British   70   \n",
       "6947  male  White: British   70   \n",
       "6994  male  White: British   70   \n",
       "7019  male  White: British   70   \n",
       "7374  male  White: British   70   \n",
       "8345  male  White: British   70   \n",
       "8497  male  White: British   70   \n",
       "8513  male  White: British   70   \n",
       "8731  male  White: British   70   \n",
       "8996  male  White: British   70   \n",
       "9481  male  White: British   70   \n",
       "\n",
       "                                                disease  \n",
       "188        'Diseases of oesophagus, stomach & duodenum'  \n",
       "645                      'Other diseases of intestines'  \n",
       "758   'In situ & benign neoplasms and others of unce...  \n",
       "803                      'Other forms of heart disease'  \n",
       "952                      'Other forms of heart disease'  \n",
       "1408                                    'Arthropathies'  \n",
       "1449  'Malignant neoplsm. of thyroid and oth. endo. ...  \n",
       "1668                                    'Arthropathies'  \n",
       "3414  'Symptoms & signs inv. the digestive system & ...  \n",
       "3727                                     'Dorsopathies'  \n",
       "3808                         'Ischaemic heart diseases'  \n",
       "3918                     'Other forms of heart disease'  \n",
       "4546           'Malignant neoplasm of digestive organs'  \n",
       "4634                     'Other forms of heart disease'  \n",
       "5162                                    'Arthropathies'  \n",
       "5422                                    'Arthropathies'  \n",
       "5457                            'Influenza & pneumonia'  \n",
       "5580                                    'Arthropathies'  \n",
       "5971                         'Ischaemic heart diseases'  \n",
       "6087                                    'Arthropathies'  \n",
       "6609       'Diseases of oesophagus, stomach & duodenum'  \n",
       "6883                         'Ischaemic heart diseases'  \n",
       "6947                                    'Arthropathies'  \n",
       "6994               'Chronic lower respiratory diseases'  \n",
       "7019                            'Influenza & pneumonia'  \n",
       "7374                            'Influenza & pneumonia'  \n",
       "8345                         'Ischaemic heart diseases'  \n",
       "8497                                    'Arthropathies'  \n",
       "8513                         'Cerebrovascular diseases'  \n",
       "8731  'Malignant neoplasms of lymphoid, haematopoiet...  \n",
       "8996                     'Other forms of heart disease'  \n",
       "9481          'Disorders of lens (including cataracts)'  "
      ]
     },
     "execution_count": 5,
     "metadata": {},
     "output_type": "execute_result"
    }
   ],
   "source": [
    "filtered_hd = hospital_data[(hospital_data['sex'] == \"male\") & (hospital_data['age'] == 70) & (hospital_data['race'] == \"White: British\")]\n",
    "filtered_hd.shape\n",
    "filtered_hd"
   ]
  },
  {
   "cell_type": "markdown",
   "id": "e5926783",
   "metadata": {},
   "source": [
    "### Ερώτημα 3α"
   ]
  },
  {
   "cell_type": "code",
   "execution_count": 6,
   "id": "4311a1bf",
   "metadata": {
    "scrolled": false
   },
   "outputs": [
    {
     "data": {
      "text/html": [
       "<div>\n",
       "<style scoped>\n",
       "    .dataframe tbody tr th:only-of-type {\n",
       "        vertical-align: middle;\n",
       "    }\n",
       "\n",
       "    .dataframe tbody tr th {\n",
       "        vertical-align: top;\n",
       "    }\n",
       "\n",
       "    .dataframe thead th {\n",
       "        text-align: right;\n",
       "    }\n",
       "</style>\n",
       "<table border=\"1\" class=\"dataframe\">\n",
       "  <thead>\n",
       "    <tr style=\"text-align: right;\">\n",
       "      <th></th>\n",
       "      <th>0</th>\n",
       "    </tr>\n",
       "  </thead>\n",
       "  <tbody>\n",
       "    <tr>\n",
       "      <th>'Diseases of oesophagus, stomach &amp; duodenum'</th>\n",
       "      <td>0.06250</td>\n",
       "    </tr>\n",
       "    <tr>\n",
       "      <th>'Other diseases of intestines'</th>\n",
       "      <td>0.03125</td>\n",
       "    </tr>\n",
       "    <tr>\n",
       "      <th>'In situ &amp; benign neoplasms and others of uncertainty'</th>\n",
       "      <td>0.03125</td>\n",
       "    </tr>\n",
       "    <tr>\n",
       "      <th>'Other forms of heart disease'</th>\n",
       "      <td>0.15625</td>\n",
       "    </tr>\n",
       "    <tr>\n",
       "      <th>'Arthropathies'</th>\n",
       "      <td>0.25000</td>\n",
       "    </tr>\n",
       "    <tr>\n",
       "      <th>'Malignant neoplsm. of thyroid and oth. endo. Glands etc'</th>\n",
       "      <td>0.03125</td>\n",
       "    </tr>\n",
       "    <tr>\n",
       "      <th>'Symptoms &amp; signs inv. the digestive system &amp; abdomen'</th>\n",
       "      <td>0.03125</td>\n",
       "    </tr>\n",
       "    <tr>\n",
       "      <th>'Dorsopathies'</th>\n",
       "      <td>0.03125</td>\n",
       "    </tr>\n",
       "    <tr>\n",
       "      <th>'Ischaemic heart diseases'</th>\n",
       "      <td>0.12500</td>\n",
       "    </tr>\n",
       "    <tr>\n",
       "      <th>'Malignant neoplasm of digestive organs'</th>\n",
       "      <td>0.03125</td>\n",
       "    </tr>\n",
       "    <tr>\n",
       "      <th>'Influenza &amp; pneumonia'</th>\n",
       "      <td>0.09375</td>\n",
       "    </tr>\n",
       "    <tr>\n",
       "      <th>'Chronic lower respiratory diseases'</th>\n",
       "      <td>0.03125</td>\n",
       "    </tr>\n",
       "    <tr>\n",
       "      <th>'Cerebrovascular diseases'</th>\n",
       "      <td>0.03125</td>\n",
       "    </tr>\n",
       "    <tr>\n",
       "      <th>'Malignant neoplasms of lymphoid, haematopoietic &amp; rel. tiss.'</th>\n",
       "      <td>0.03125</td>\n",
       "    </tr>\n",
       "    <tr>\n",
       "      <th>'Disorders of lens (including cataracts)'</th>\n",
       "      <td>0.03125</td>\n",
       "    </tr>\n",
       "  </tbody>\n",
       "</table>\n",
       "</div>"
      ],
      "text/plain": [
       "                                                          0\n",
       "'Diseases of oesophagus, stomach & duodenum'        0.06250\n",
       "'Other diseases of intestines'                      0.03125\n",
       "'In situ & benign neoplasms and others of uncer...  0.03125\n",
       "'Other forms of heart disease'                      0.15625\n",
       "'Arthropathies'                                     0.25000\n",
       "'Malignant neoplsm. of thyroid and oth. endo. G...  0.03125\n",
       "'Symptoms & signs inv. the digestive system & a...  0.03125\n",
       "'Dorsopathies'                                      0.03125\n",
       "'Ischaemic heart diseases'                          0.12500\n",
       "'Malignant neoplasm of digestive organs'            0.03125\n",
       "'Influenza & pneumonia'                             0.09375\n",
       "'Chronic lower respiratory diseases'                0.03125\n",
       "'Cerebrovascular diseases'                          0.03125\n",
       "'Malignant neoplasms of lymphoid, haematopoieti...  0.03125\n",
       "'Disorders of lens (including cataracts)'           0.03125"
      ]
     },
     "execution_count": 6,
     "metadata": {},
     "output_type": "execute_result"
    }
   ],
   "source": [
    "all_diseases = filtered_hd['disease'].unique()\n",
    "results = {}\n",
    "for disease in all_diseases:\n",
    "    disease_count = filtered_hd[filtered_hd['disease'] == disease].shape[0]\n",
    "    total_count = filtered_hd.shape[0]\n",
    "    percentage = disease_count / total_count\n",
    "    results[disease] = percentage\n",
    "    \n",
    "pd.DataFrame.from_dict(results, orient='index')"
   ]
  },
  {
   "cell_type": "markdown",
   "id": "5dad7395",
   "metadata": {},
   "source": [
    "### Ερώτημα 3β"
   ]
  },
  {
   "cell_type": "code",
   "execution_count": 7,
   "id": "571296ce",
   "metadata": {},
   "outputs": [],
   "source": [
    "counted = hospital_data.groupby(['sex', 'age', 'race']).count()\n",
    "unique_disease = counted[counted['disease'] == 1]"
   ]
  },
  {
   "cell_type": "code",
   "execution_count": 8,
   "id": "0f001f66",
   "metadata": {},
   "outputs": [
    {
     "name": "stdout",
     "output_type": "stream",
     "text": [
      "Άτομα που επισκέφθηκαν το νοσοκομείο για συγκεκριμένο λόγο: 708\n",
      "\n",
      "Παρακάτω εμφανίζονται τα πρώτα 10 άτομα\n",
      "             name     sex                             race  age\n",
      "6018  Lori Demark  female  Asian or Asian British: Chinese    0\n",
      "               name     sex                              race  age\n",
      "9406  Tina Williams  female  Mixed: White and Black Caribbean    0\n",
      "               name     sex                           race  age\n",
      "3702  Hilda Rubarts  female  Other: Any other ethnic group    0\n",
      "                 name     sex         race  age\n",
      "1697  Consuelo Dufour  female  Other: Arab    0\n",
      "                 name     sex          race  age\n",
      "9083  Sylvia Williams  female  White: Irish    0\n",
      "                 name     sex                             race  age\n",
      "3780  Iris Pleasanton  female  Asian or Asian British: Chinese    1\n",
      "                 name     sex                             race  age\n",
      "7843  Renee Broussard  female  Asian or Asian British: Chinese    2\n",
      "                name     sex                race  age\n",
      "8396  Ruby Mcpherson  female  Mixed: Other Mixed    2\n",
      "                  name     sex                            race  age\n",
      "2758  Elizabeth Double  female  Mixed: White and Black African    2\n",
      "               name     sex                              race  age\n",
      "6136  Lydia Jackson  female  Mixed: White and Black Caribbean    2\n"
     ]
    }
   ],
   "source": [
    "results = []\n",
    "for i, row in unique_disease.iterrows():\n",
    "    sex, age, race = i\n",
    "    res = citizens_list[(citizens_list['sex'] == sex) & (citizens_list['age'] == age) & (citizens_list['race'] == race)]\n",
    "    results.append(res)\n",
    "    \n",
    "print(\"Άτομα που επισκέφθηκαν το νοσοκομείο για συγκεκριμένο λόγο:\", len(results))\n",
    "print()\n",
    "print(\"Παρακάτω εμφανίζονται τα πρώτα 10 άτομα\")\n",
    "for i in results[:10]:\n",
    "    print(i)"
   ]
  },
  {
   "cell_type": "markdown",
   "id": "b9a95a98",
   "metadata": {},
   "source": [
    "### Ερώτημα 3α Generalization"
   ]
  },
  {
   "cell_type": "code",
   "execution_count": 9,
   "id": "4310cbc2",
   "metadata": {},
   "outputs": [],
   "source": [
    "def compute_k_anonymity(df: pd.DataFrame, qid: list[str]) -> int:\n",
    "    return df.groupby(qid).count().min().get('disease')"
   ]
  },
  {
   "cell_type": "code",
   "execution_count": 11,
   "id": "9fd38b3b",
   "metadata": {},
   "outputs": [],
   "source": [
    "def compute_l_diversity(df: pd.DataFrame, qid: list[str], sensitive_col: str) -> int:\n",
    "    grouped = df.groupby(qid)\n",
    "    l_div = []\n",
    "    for name, group in grouped:\n",
    "        l_div.append(group[sensitive_col].nunique())\n",
    "\n",
    "    return min(l_div)"
   ]
  },
  {
   "cell_type": "code",
   "execution_count": 13,
   "id": "136f092f",
   "metadata": {},
   "outputs": [],
   "source": [
    "def compute_l_div_entropy(df: pd.DataFrame, qid: list[str], sensitive_col: str) -> float:\n",
    "    grouped = df.groupby(qid)\n",
    "    entropies = []\n",
    "    for name, group in grouped:\n",
    "        counts = group[sensitive_col].value_counts()\n",
    "        total = counts.sum()\n",
    "        s = 0\n",
    "        for index, value in counts.items():\n",
    "            s -= (value/total) * np.log10(value/total)\n",
    "        entropies.append(np.power(10,s))\n",
    "\n",
    "    return min(entropies)"
   ]
  },
  {
   "cell_type": "code",
   "execution_count": 27,
   "id": "2826b919",
   "metadata": {},
   "outputs": [
    {
     "name": "stdout",
     "output_type": "stream",
     "text": [
      "k-anonymity: 1\n",
      "l-diversity: 1\n",
      "Entropy: 1.0\n"
     ]
    }
   ],
   "source": [
    "qid = ['age', 'sex', 'race']\n",
    "print('k-anonymity:', compute_k_anonymity(hospital_data, qid))\n",
    "print('l-diversity:', compute_l_diversity(hospital_data, qid, 'disease'))\n",
    "print('Entropy:', compute_l_div_entropy(hospital_data, qid, 'disease'))"
   ]
  },
  {
   "cell_type": "markdown",
   "id": "eebf64fa",
   "metadata": {},
   "source": [
    "### Ερώτημα 3β Generalization"
   ]
  },
  {
   "cell_type": "code",
   "execution_count": 15,
   "id": "b5ae6bcd",
   "metadata": {},
   "outputs": [],
   "source": [
    "gen_data = hospital_data.copy()"
   ]
  },
  {
   "cell_type": "markdown",
   "id": "35b0b3a2",
   "metadata": {},
   "source": [
    "#### Έλγχος τιμών που υπάρχουν στον πίνακα"
   ]
  },
  {
   "cell_type": "code",
   "execution_count": 16,
   "id": "6701a4ea",
   "metadata": {
    "scrolled": true
   },
   "outputs": [
    {
     "name": "stdout",
     "output_type": "stream",
     "text": [
      "Asian or Asian British: Bangladeshi\n",
      "Asian or Asian British: Chinese\n",
      "Asian or Asian British: Indian\n",
      "Asian or Asian British: Other Asian\n",
      "Asian or Asian British: Pakistani\n",
      "Black or Black British: African\n",
      "Black or Black British: Caribbean\n",
      "Black or Black British: Other Black\n",
      "Mixed: Other Mixed\n",
      "Mixed: White and Asian\n",
      "Mixed: White and Black African\n",
      "Mixed: White and Black Caribbean\n",
      "Other: Any other ethnic group\n",
      "Other: Arab\n",
      "White: British\n",
      "White: Gypsy or Irish Traveller\n",
      "White: Irish\n",
      "White: Other\n"
     ]
    }
   ],
   "source": [
    "races = gen_data['race'].unique()\n",
    "for i in np.sort(races):\n",
    "    print(i)"
   ]
  },
  {
   "cell_type": "code",
   "execution_count": 17,
   "id": "efcc8ca5",
   "metadata": {
    "scrolled": true
   },
   "outputs": [
    {
     "name": "stdout",
     "output_type": "stream",
     "text": [
      "0 89\n"
     ]
    }
   ],
   "source": [
    "ages = gen_data['age'].unique()\n",
    "print(ages.min(), ages.max())"
   ]
  },
  {
   "cell_type": "markdown",
   "id": "be0b7339",
   "metadata": {},
   "source": [
    "### Γενίκευση ηλικίας στις εξής ομάδες `[0,15), [15,30), [30,45), [45,60), [60,75), [75,90)`"
   ]
  },
  {
   "cell_type": "code",
   "execution_count": 18,
   "id": "483bff8d",
   "metadata": {},
   "outputs": [
    {
     "data": {
      "text/plain": [
       "sex        object\n",
       "race       object\n",
       "age         int32\n",
       "disease    object\n",
       "dtype: object"
      ]
     },
     "execution_count": 18,
     "metadata": {},
     "output_type": "execute_result"
    }
   ],
   "source": [
    "gen_data = hospital_data.copy()\n",
    "gen_data.astype({'age':'int'}).dtypes"
   ]
  },
  {
   "cell_type": "code",
   "execution_count": 19,
   "id": "6eb9d615",
   "metadata": {
    "scrolled": false
   },
   "outputs": [
    {
     "data": {
      "text/plain": [
       "array([75, 60, 45,  0, 15, 30], dtype=int64)"
      ]
     },
     "execution_count": 19,
     "metadata": {},
     "output_type": "execute_result"
    }
   ],
   "source": [
    "gen_data.loc[gen_data['age'] < 15, 'age'] = 0\n",
    "gen_data.loc[(gen_data['age'] < 30) & (gen_data['age'] >= 15), 'age'] = 15\n",
    "gen_data.loc[(gen_data['age'] < 45) & (gen_data['age'] >= 30), 'age'] = 30\n",
    "gen_data.loc[(gen_data['age'] < 60) & (gen_data['age'] >= 45), 'age'] = 45\n",
    "gen_data.loc[(gen_data['age'] < 75) & (gen_data['age'] >= 60), 'age'] = 60\n",
    "gen_data.loc[gen_data['age'] >= 75, 'age'] = 75\n",
    "gen_data['age'].unique()"
   ]
  },
  {
   "cell_type": "code",
   "execution_count": 20,
   "id": "c3e94230",
   "metadata": {},
   "outputs": [
    {
     "name": "stdout",
     "output_type": "stream",
     "text": [
      "k-anonymity: 1\n",
      "l-diversity: 1\n",
      "Entropy: 1.0\n"
     ]
    }
   ],
   "source": [
    "print('k-anonymity:', compute_k_anonymity(gen_data, qid))\n",
    "print('l-diversity:', compute_l_diversity(gen_data, qid, 'disease'))\n",
    "print('Entropy:', compute_l_div_entropy(gen_data, qid, 'disease'))"
   ]
  },
  {
   "cell_type": "markdown",
   "id": "4cd6d694",
   "metadata": {},
   "source": [
    "### Γενίκευση φυλής με πρώτο επίπεδο ηλικίας"
   ]
  },
  {
   "cell_type": "code",
   "execution_count": 21,
   "id": "4092d51c",
   "metadata": {},
   "outputs": [
    {
     "name": "stdout",
     "output_type": "stream",
     "text": [
      "Asian\n",
      "Black\n",
      "Mixed\n",
      "Other\n",
      "White\n"
     ]
    }
   ],
   "source": [
    "gen_data = hospital_data.copy()\n",
    "\n",
    "gen_data = gen_data.replace(regex=r'^White.*$', value='White')\n",
    "gen_data = gen_data.replace(regex=r'^Asian.*$', value='Asian')\n",
    "gen_data = gen_data.replace(regex=r'^Black.*$', value='Black')\n",
    "gen_data = gen_data.replace(regex=r'^Mixed.*$', value='Mixed')\n",
    "gen_data = gen_data.replace(regex=r'^Other.*$', value='Other')\n",
    "\n",
    "gen_data.loc[gen_data['age'] < 15, 'age'] = 0\n",
    "gen_data.loc[(gen_data['age'] < 30) & (gen_data['age'] >= 15), 'age'] = 15\n",
    "gen_data.loc[(gen_data['age'] < 45) & (gen_data['age'] >= 30), 'age'] = 30\n",
    "gen_data.loc[(gen_data['age'] < 60) & (gen_data['age'] >= 45), 'age'] = 45\n",
    "gen_data.loc[(gen_data['age'] < 75) & (gen_data['age'] >= 60), 'age'] = 60\n",
    "gen_data.loc[gen_data['age'] >= 75, 'age'] = 75\n",
    "\n",
    "races = gen_data['race'].unique()\n",
    "for i in np.sort(races):\n",
    "    print(i)"
   ]
  },
  {
   "cell_type": "code",
   "execution_count": 22,
   "id": "3a579073",
   "metadata": {},
   "outputs": [
    {
     "name": "stdout",
     "output_type": "stream",
     "text": [
      "k-anonymity: 8\n",
      "l-diversity: 2\n",
      "Entropy: 1.4575692649810903\n"
     ]
    }
   ],
   "source": [
    "print('k-anonymity:', compute_k_anonymity(gen_data, qid))\n",
    "print('l-diversity:', compute_l_diversity(gen_data, qid, 'disease'))\n",
    "print('Entropy:', compute_l_div_entropy(gen_data, qid, 'disease'))"
   ]
  },
  {
   "cell_type": "markdown",
   "id": "7c3b4ed0",
   "metadata": {},
   "source": [
    "### Γενίκευση ηλικίας δεύτερο επίπεδο"
   ]
  },
  {
   "cell_type": "code",
   "execution_count": 23,
   "id": "70c6bd6c",
   "metadata": {},
   "outputs": [
    {
     "data": {
      "text/plain": [
       "array([45,  0], dtype=int64)"
      ]
     },
     "execution_count": 23,
     "metadata": {},
     "output_type": "execute_result"
    }
   ],
   "source": [
    "gen_data = hospital_data.copy()\n",
    "\n",
    "gen_data.loc[gen_data['age'] < 45, 'age'] = 0\n",
    "gen_data.loc[gen_data['age'] >= 45, 'age'] = 45\n",
    "\n",
    "gen_data['age'].unique()"
   ]
  },
  {
   "cell_type": "code",
   "execution_count": 24,
   "id": "f2639306",
   "metadata": {},
   "outputs": [
    {
     "name": "stdout",
     "output_type": "stream",
     "text": [
      "k-anonymity: 1\n",
      "l-diversity: 1\n",
      "Entropy: 1.0\n"
     ]
    }
   ],
   "source": [
    "print('k-anonymity:', compute_k_anonymity(gen_data, qid))\n",
    "print('l-diversity:', compute_l_diversity(gen_data, qid, 'disease'))\n",
    "print('Entropy:', compute_l_div_entropy(gen_data, qid, 'disease'))"
   ]
  },
  {
   "cell_type": "markdown",
   "id": "e29e44ad",
   "metadata": {},
   "source": [
    "### Γενίκευση ηλικίας και φυλής σε δεύτερο επίπεδο"
   ]
  },
  {
   "cell_type": "code",
   "execution_count": 25,
   "id": "72cb418d",
   "metadata": {},
   "outputs": [],
   "source": [
    "gen_data = hospital_data.copy()\n",
    "\n",
    "gen_data.loc[gen_data['age'] < 45, 'age'] = 0\n",
    "gen_data.loc[gen_data['age'] >= 45, 'age'] = 45\n",
    "\n",
    "gen_data = gen_data.replace(regex=r'^White.*$', value='White')\n",
    "gen_data = gen_data.replace(regex=r'^Asian.*$', value='Asian')\n",
    "gen_data = gen_data.replace(regex=r'^Black.*$', value='Black')\n",
    "gen_data = gen_data.replace(regex=r'^Mixed.*$', value='Mixed')\n",
    "gen_data = gen_data.replace(regex=r'^Other.*$', value='Other')"
   ]
  },
  {
   "cell_type": "code",
   "execution_count": 26,
   "id": "99760ab8",
   "metadata": {},
   "outputs": [
    {
     "name": "stdout",
     "output_type": "stream",
     "text": [
      "k-anonymity: 34\n",
      "l-diversity: 8\n",
      "Entropy: 3.628988590913454\n"
     ]
    }
   ],
   "source": [
    "print('k-anonymity:', compute_k_anonymity(gen_data, qid))\n",
    "print('l-diversity:', compute_l_diversity(gen_data, qid, 'disease'))\n",
    "print('Entropy:', compute_l_div_entropy(gen_data, qid, 'disease'))"
   ]
  },
  {
   "cell_type": "code",
   "execution_count": null,
   "id": "09a9a330",
   "metadata": {},
   "outputs": [],
   "source": []
  }
 ],
 "metadata": {
  "kernelspec": {
   "display_name": "Python 3 (ipykernel)",
   "language": "python",
   "name": "python3"
  },
  "language_info": {
   "codemirror_mode": {
    "name": "ipython",
    "version": 3
   },
   "file_extension": ".py",
   "mimetype": "text/x-python",
   "name": "python",
   "nbconvert_exporter": "python",
   "pygments_lexer": "ipython3",
   "version": "3.9.12"
  }
 },
 "nbformat": 4,
 "nbformat_minor": 5
}
